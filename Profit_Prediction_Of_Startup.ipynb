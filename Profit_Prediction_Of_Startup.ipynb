{
 "cells": [
  {
   "cell_type": "markdown",
   "id": "57ba8fb2",
   "metadata": {},
   "source": [
    "# Import Libraries"
   ]
  },
  {
   "cell_type": "code",
   "execution_count": 1,
   "id": "29ca361a",
   "metadata": {},
   "outputs": [],
   "source": [
    "import pandas as pd\n",
    "import numpy as np\n",
    "import seaborn as sb\n",
    "import matplotlib.pyplot as pt\n",
    "from sklearn.model_selection import train_test_split\n",
    "from sklearn.metrics import r2_score, mean_absolute_error, mean_squared_error\n",
    "from sklearn.linear_model import LinearRegression\n",
    "from sklearn.ensemble import RandomForestRegressor\n",
    "from sklearn.tree import DecisionTreeRegressor\n",
    "from sklearn.linear_model import Lasso\n",
    "from sklearn.linear_model import Ridge\n",
    "from sklearn.linear_model import ElasticNet\n",
    "from sklearn.svm import SVR\n",
    "import xgboost as xgb\n",
    "import tensorflow as tf\n",
    "from sklearn.preprocessing import MinMaxScaler"
   ]
  },
  {
   "cell_type": "markdown",
   "id": "ec6da973",
   "metadata": {},
   "source": [
    "# Data Analysis and Visualization\n",
    "# Preprocessing Data"
   ]
  },
  {
   "cell_type": "code",
   "execution_count": 2,
   "id": "c3feaa8a",
   "metadata": {},
   "outputs": [],
   "source": [
    "data = pd.read_csv(r\"C:\\Users\\hp\\Startup_Profit_Prediction\\50_Startups.csv\")"
   ]
  },
  {
   "cell_type": "code",
   "execution_count": 3,
   "id": "4312ef34",
   "metadata": {},
   "outputs": [
    {
     "data": {
      "text/html": [
       "<div>\n",
       "<style scoped>\n",
       "    .dataframe tbody tr th:only-of-type {\n",
       "        vertical-align: middle;\n",
       "    }\n",
       "\n",
       "    .dataframe tbody tr th {\n",
       "        vertical-align: top;\n",
       "    }\n",
       "\n",
       "    .dataframe thead th {\n",
       "        text-align: right;\n",
       "    }\n",
       "</style>\n",
       "<table border=\"1\" class=\"dataframe\">\n",
       "  <thead>\n",
       "    <tr style=\"text-align: right;\">\n",
       "      <th></th>\n",
       "      <th>R&amp;D Spend</th>\n",
       "      <th>Administration</th>\n",
       "      <th>Marketing Spend</th>\n",
       "      <th>Profit</th>\n",
       "    </tr>\n",
       "  </thead>\n",
       "  <tbody>\n",
       "    <tr>\n",
       "      <th>0</th>\n",
       "      <td>165349.20</td>\n",
       "      <td>136897.80</td>\n",
       "      <td>471784.10</td>\n",
       "      <td>192261.83</td>\n",
       "    </tr>\n",
       "    <tr>\n",
       "      <th>1</th>\n",
       "      <td>162597.70</td>\n",
       "      <td>151377.59</td>\n",
       "      <td>443898.53</td>\n",
       "      <td>191792.06</td>\n",
       "    </tr>\n",
       "    <tr>\n",
       "      <th>2</th>\n",
       "      <td>153441.51</td>\n",
       "      <td>101145.55</td>\n",
       "      <td>407934.54</td>\n",
       "      <td>191050.39</td>\n",
       "    </tr>\n",
       "    <tr>\n",
       "      <th>3</th>\n",
       "      <td>144372.41</td>\n",
       "      <td>118671.85</td>\n",
       "      <td>383199.62</td>\n",
       "      <td>182901.99</td>\n",
       "    </tr>\n",
       "    <tr>\n",
       "      <th>4</th>\n",
       "      <td>142107.34</td>\n",
       "      <td>91391.77</td>\n",
       "      <td>366168.42</td>\n",
       "      <td>166187.94</td>\n",
       "    </tr>\n",
       "    <tr>\n",
       "      <th>5</th>\n",
       "      <td>131876.90</td>\n",
       "      <td>99814.71</td>\n",
       "      <td>362861.36</td>\n",
       "      <td>156991.12</td>\n",
       "    </tr>\n",
       "    <tr>\n",
       "      <th>6</th>\n",
       "      <td>134615.46</td>\n",
       "      <td>147198.87</td>\n",
       "      <td>127716.82</td>\n",
       "      <td>156122.51</td>\n",
       "    </tr>\n",
       "    <tr>\n",
       "      <th>7</th>\n",
       "      <td>130298.13</td>\n",
       "      <td>145530.06</td>\n",
       "      <td>323876.68</td>\n",
       "      <td>155752.60</td>\n",
       "    </tr>\n",
       "    <tr>\n",
       "      <th>8</th>\n",
       "      <td>120542.52</td>\n",
       "      <td>148718.95</td>\n",
       "      <td>311613.29</td>\n",
       "      <td>152211.77</td>\n",
       "    </tr>\n",
       "    <tr>\n",
       "      <th>9</th>\n",
       "      <td>123334.88</td>\n",
       "      <td>108679.17</td>\n",
       "      <td>304981.62</td>\n",
       "      <td>149759.96</td>\n",
       "    </tr>\n",
       "    <tr>\n",
       "      <th>10</th>\n",
       "      <td>101913.08</td>\n",
       "      <td>110594.11</td>\n",
       "      <td>229160.95</td>\n",
       "      <td>146121.95</td>\n",
       "    </tr>\n",
       "    <tr>\n",
       "      <th>11</th>\n",
       "      <td>100671.96</td>\n",
       "      <td>91790.61</td>\n",
       "      <td>249744.55</td>\n",
       "      <td>144259.40</td>\n",
       "    </tr>\n",
       "    <tr>\n",
       "      <th>12</th>\n",
       "      <td>93863.75</td>\n",
       "      <td>127320.38</td>\n",
       "      <td>249839.44</td>\n",
       "      <td>141585.52</td>\n",
       "    </tr>\n",
       "    <tr>\n",
       "      <th>13</th>\n",
       "      <td>91992.39</td>\n",
       "      <td>135495.07</td>\n",
       "      <td>252664.93</td>\n",
       "      <td>134307.35</td>\n",
       "    </tr>\n",
       "    <tr>\n",
       "      <th>14</th>\n",
       "      <td>119943.24</td>\n",
       "      <td>156547.42</td>\n",
       "      <td>256512.92</td>\n",
       "      <td>132602.65</td>\n",
       "    </tr>\n",
       "    <tr>\n",
       "      <th>15</th>\n",
       "      <td>114523.61</td>\n",
       "      <td>122616.84</td>\n",
       "      <td>261776.23</td>\n",
       "      <td>129917.04</td>\n",
       "    </tr>\n",
       "    <tr>\n",
       "      <th>16</th>\n",
       "      <td>78013.11</td>\n",
       "      <td>121597.55</td>\n",
       "      <td>264346.06</td>\n",
       "      <td>126992.93</td>\n",
       "    </tr>\n",
       "    <tr>\n",
       "      <th>17</th>\n",
       "      <td>94657.16</td>\n",
       "      <td>145077.58</td>\n",
       "      <td>282574.31</td>\n",
       "      <td>125370.37</td>\n",
       "    </tr>\n",
       "    <tr>\n",
       "      <th>18</th>\n",
       "      <td>91749.16</td>\n",
       "      <td>114175.79</td>\n",
       "      <td>294919.57</td>\n",
       "      <td>124266.90</td>\n",
       "    </tr>\n",
       "    <tr>\n",
       "      <th>19</th>\n",
       "      <td>86419.70</td>\n",
       "      <td>153514.11</td>\n",
       "      <td>0.00</td>\n",
       "      <td>122776.86</td>\n",
       "    </tr>\n",
       "    <tr>\n",
       "      <th>20</th>\n",
       "      <td>76253.86</td>\n",
       "      <td>113867.30</td>\n",
       "      <td>298664.47</td>\n",
       "      <td>118474.03</td>\n",
       "    </tr>\n",
       "    <tr>\n",
       "      <th>21</th>\n",
       "      <td>78389.47</td>\n",
       "      <td>153773.43</td>\n",
       "      <td>299737.29</td>\n",
       "      <td>111313.02</td>\n",
       "    </tr>\n",
       "    <tr>\n",
       "      <th>22</th>\n",
       "      <td>73994.56</td>\n",
       "      <td>122782.75</td>\n",
       "      <td>303319.26</td>\n",
       "      <td>110352.25</td>\n",
       "    </tr>\n",
       "    <tr>\n",
       "      <th>23</th>\n",
       "      <td>67532.53</td>\n",
       "      <td>105751.03</td>\n",
       "      <td>304768.73</td>\n",
       "      <td>108733.99</td>\n",
       "    </tr>\n",
       "    <tr>\n",
       "      <th>24</th>\n",
       "      <td>77044.01</td>\n",
       "      <td>99281.34</td>\n",
       "      <td>140574.81</td>\n",
       "      <td>108552.04</td>\n",
       "    </tr>\n",
       "    <tr>\n",
       "      <th>25</th>\n",
       "      <td>64664.71</td>\n",
       "      <td>139553.16</td>\n",
       "      <td>137962.62</td>\n",
       "      <td>107404.34</td>\n",
       "    </tr>\n",
       "    <tr>\n",
       "      <th>26</th>\n",
       "      <td>75328.87</td>\n",
       "      <td>144135.98</td>\n",
       "      <td>134050.07</td>\n",
       "      <td>105733.54</td>\n",
       "    </tr>\n",
       "    <tr>\n",
       "      <th>27</th>\n",
       "      <td>72107.60</td>\n",
       "      <td>127864.55</td>\n",
       "      <td>353183.81</td>\n",
       "      <td>105008.31</td>\n",
       "    </tr>\n",
       "    <tr>\n",
       "      <th>28</th>\n",
       "      <td>66051.52</td>\n",
       "      <td>182645.56</td>\n",
       "      <td>118148.20</td>\n",
       "      <td>103282.38</td>\n",
       "    </tr>\n",
       "    <tr>\n",
       "      <th>29</th>\n",
       "      <td>65605.48</td>\n",
       "      <td>153032.06</td>\n",
       "      <td>107138.38</td>\n",
       "      <td>101004.64</td>\n",
       "    </tr>\n",
       "    <tr>\n",
       "      <th>30</th>\n",
       "      <td>61994.48</td>\n",
       "      <td>115641.28</td>\n",
       "      <td>91131.24</td>\n",
       "      <td>99937.59</td>\n",
       "    </tr>\n",
       "    <tr>\n",
       "      <th>31</th>\n",
       "      <td>61136.38</td>\n",
       "      <td>152701.92</td>\n",
       "      <td>88218.23</td>\n",
       "      <td>97483.56</td>\n",
       "    </tr>\n",
       "    <tr>\n",
       "      <th>32</th>\n",
       "      <td>63408.86</td>\n",
       "      <td>129219.61</td>\n",
       "      <td>46085.25</td>\n",
       "      <td>97427.84</td>\n",
       "    </tr>\n",
       "    <tr>\n",
       "      <th>33</th>\n",
       "      <td>55493.95</td>\n",
       "      <td>103057.49</td>\n",
       "      <td>214634.81</td>\n",
       "      <td>96778.92</td>\n",
       "    </tr>\n",
       "    <tr>\n",
       "      <th>34</th>\n",
       "      <td>46426.07</td>\n",
       "      <td>157693.92</td>\n",
       "      <td>210797.67</td>\n",
       "      <td>96712.80</td>\n",
       "    </tr>\n",
       "    <tr>\n",
       "      <th>35</th>\n",
       "      <td>46014.02</td>\n",
       "      <td>85047.44</td>\n",
       "      <td>205517.64</td>\n",
       "      <td>96479.51</td>\n",
       "    </tr>\n",
       "    <tr>\n",
       "      <th>36</th>\n",
       "      <td>28663.76</td>\n",
       "      <td>127056.21</td>\n",
       "      <td>201126.82</td>\n",
       "      <td>90708.19</td>\n",
       "    </tr>\n",
       "    <tr>\n",
       "      <th>37</th>\n",
       "      <td>44069.95</td>\n",
       "      <td>51283.14</td>\n",
       "      <td>197029.42</td>\n",
       "      <td>89949.14</td>\n",
       "    </tr>\n",
       "    <tr>\n",
       "      <th>38</th>\n",
       "      <td>20229.59</td>\n",
       "      <td>65947.93</td>\n",
       "      <td>185265.10</td>\n",
       "      <td>81229.06</td>\n",
       "    </tr>\n",
       "    <tr>\n",
       "      <th>39</th>\n",
       "      <td>38558.51</td>\n",
       "      <td>82982.09</td>\n",
       "      <td>174999.30</td>\n",
       "      <td>81005.76</td>\n",
       "    </tr>\n",
       "    <tr>\n",
       "      <th>40</th>\n",
       "      <td>28754.33</td>\n",
       "      <td>118546.05</td>\n",
       "      <td>172795.67</td>\n",
       "      <td>78239.91</td>\n",
       "    </tr>\n",
       "    <tr>\n",
       "      <th>41</th>\n",
       "      <td>27892.92</td>\n",
       "      <td>84710.77</td>\n",
       "      <td>164470.71</td>\n",
       "      <td>77798.83</td>\n",
       "    </tr>\n",
       "    <tr>\n",
       "      <th>42</th>\n",
       "      <td>23640.93</td>\n",
       "      <td>96189.63</td>\n",
       "      <td>148001.11</td>\n",
       "      <td>71498.49</td>\n",
       "    </tr>\n",
       "    <tr>\n",
       "      <th>43</th>\n",
       "      <td>15505.73</td>\n",
       "      <td>127382.30</td>\n",
       "      <td>35534.17</td>\n",
       "      <td>69758.98</td>\n",
       "    </tr>\n",
       "    <tr>\n",
       "      <th>44</th>\n",
       "      <td>22177.74</td>\n",
       "      <td>154806.14</td>\n",
       "      <td>28334.72</td>\n",
       "      <td>65200.33</td>\n",
       "    </tr>\n",
       "    <tr>\n",
       "      <th>45</th>\n",
       "      <td>1000.23</td>\n",
       "      <td>124153.04</td>\n",
       "      <td>1903.93</td>\n",
       "      <td>64926.08</td>\n",
       "    </tr>\n",
       "    <tr>\n",
       "      <th>46</th>\n",
       "      <td>1315.46</td>\n",
       "      <td>115816.21</td>\n",
       "      <td>297114.46</td>\n",
       "      <td>49490.75</td>\n",
       "    </tr>\n",
       "    <tr>\n",
       "      <th>47</th>\n",
       "      <td>0.00</td>\n",
       "      <td>135426.92</td>\n",
       "      <td>0.00</td>\n",
       "      <td>42559.73</td>\n",
       "    </tr>\n",
       "    <tr>\n",
       "      <th>48</th>\n",
       "      <td>542.05</td>\n",
       "      <td>51743.15</td>\n",
       "      <td>0.00</td>\n",
       "      <td>35673.41</td>\n",
       "    </tr>\n",
       "    <tr>\n",
       "      <th>49</th>\n",
       "      <td>0.00</td>\n",
       "      <td>116983.80</td>\n",
       "      <td>45173.06</td>\n",
       "      <td>14681.40</td>\n",
       "    </tr>\n",
       "  </tbody>\n",
       "</table>\n",
       "</div>"
      ],
      "text/plain": [
       "    R&D Spend  Administration  Marketing Spend     Profit\n",
       "0   165349.20       136897.80        471784.10  192261.83\n",
       "1   162597.70       151377.59        443898.53  191792.06\n",
       "2   153441.51       101145.55        407934.54  191050.39\n",
       "3   144372.41       118671.85        383199.62  182901.99\n",
       "4   142107.34        91391.77        366168.42  166187.94\n",
       "5   131876.90        99814.71        362861.36  156991.12\n",
       "6   134615.46       147198.87        127716.82  156122.51\n",
       "7   130298.13       145530.06        323876.68  155752.60\n",
       "8   120542.52       148718.95        311613.29  152211.77\n",
       "9   123334.88       108679.17        304981.62  149759.96\n",
       "10  101913.08       110594.11        229160.95  146121.95\n",
       "11  100671.96        91790.61        249744.55  144259.40\n",
       "12   93863.75       127320.38        249839.44  141585.52\n",
       "13   91992.39       135495.07        252664.93  134307.35\n",
       "14  119943.24       156547.42        256512.92  132602.65\n",
       "15  114523.61       122616.84        261776.23  129917.04\n",
       "16   78013.11       121597.55        264346.06  126992.93\n",
       "17   94657.16       145077.58        282574.31  125370.37\n",
       "18   91749.16       114175.79        294919.57  124266.90\n",
       "19   86419.70       153514.11             0.00  122776.86\n",
       "20   76253.86       113867.30        298664.47  118474.03\n",
       "21   78389.47       153773.43        299737.29  111313.02\n",
       "22   73994.56       122782.75        303319.26  110352.25\n",
       "23   67532.53       105751.03        304768.73  108733.99\n",
       "24   77044.01        99281.34        140574.81  108552.04\n",
       "25   64664.71       139553.16        137962.62  107404.34\n",
       "26   75328.87       144135.98        134050.07  105733.54\n",
       "27   72107.60       127864.55        353183.81  105008.31\n",
       "28   66051.52       182645.56        118148.20  103282.38\n",
       "29   65605.48       153032.06        107138.38  101004.64\n",
       "30   61994.48       115641.28         91131.24   99937.59\n",
       "31   61136.38       152701.92         88218.23   97483.56\n",
       "32   63408.86       129219.61         46085.25   97427.84\n",
       "33   55493.95       103057.49        214634.81   96778.92\n",
       "34   46426.07       157693.92        210797.67   96712.80\n",
       "35   46014.02        85047.44        205517.64   96479.51\n",
       "36   28663.76       127056.21        201126.82   90708.19\n",
       "37   44069.95        51283.14        197029.42   89949.14\n",
       "38   20229.59        65947.93        185265.10   81229.06\n",
       "39   38558.51        82982.09        174999.30   81005.76\n",
       "40   28754.33       118546.05        172795.67   78239.91\n",
       "41   27892.92        84710.77        164470.71   77798.83\n",
       "42   23640.93        96189.63        148001.11   71498.49\n",
       "43   15505.73       127382.30         35534.17   69758.98\n",
       "44   22177.74       154806.14         28334.72   65200.33\n",
       "45    1000.23       124153.04          1903.93   64926.08\n",
       "46    1315.46       115816.21        297114.46   49490.75\n",
       "47       0.00       135426.92             0.00   42559.73\n",
       "48     542.05        51743.15             0.00   35673.41\n",
       "49       0.00       116983.80         45173.06   14681.40"
      ]
     },
     "execution_count": 3,
     "metadata": {},
     "output_type": "execute_result"
    }
   ],
   "source": [
    "data"
   ]
  },
  {
   "cell_type": "code",
   "execution_count": 47,
   "id": "42bd4c48",
   "metadata": {},
   "outputs": [
    {
     "name": "stdout",
     "output_type": "stream",
     "text": [
      "<class 'pandas.core.frame.DataFrame'>\n",
      "RangeIndex: 50 entries, 0 to 49\n",
      "Data columns (total 4 columns):\n",
      " #   Column           Non-Null Count  Dtype  \n",
      "---  ------           --------------  -----  \n",
      " 0   R&D Spend        50 non-null     float64\n",
      " 1   Administration   50 non-null     float64\n",
      " 2   Marketing Spend  50 non-null     float64\n",
      " 3   Profit           50 non-null     float64\n",
      "dtypes: float64(4)\n",
      "memory usage: 1.7 KB\n"
     ]
    }
   ],
   "source": [
    "data.info()"
   ]
  },
  {
   "cell_type": "code",
   "execution_count": 48,
   "id": "3cc11db6",
   "metadata": {},
   "outputs": [
    {
     "data": {
      "text/plain": [
       "Index(['R&D Spend', 'Administration', 'Marketing Spend', 'Profit'], dtype='object')"
      ]
     },
     "execution_count": 48,
     "metadata": {},
     "output_type": "execute_result"
    }
   ],
   "source": [
    "data.columns"
   ]
  },
  {
   "cell_type": "markdown",
   "id": "69331115",
   "metadata": {},
   "source": [
    "# Plotting"
   ]
  },
  {
   "cell_type": "markdown",
   "id": "5a5da834",
   "metadata": {},
   "source": [
    "## Plot Correlation Matrix"
   ]
  },
  {
   "cell_type": "code",
   "execution_count": 49,
   "id": "a1f0b379",
   "metadata": {},
   "outputs": [
    {
     "data": {
      "image/png": "[encoded data removed]",
      "text/plain": [
       "<Figure size 432x288 with 2 Axes>"
      ]
     },
     "metadata": {
      "needs_background": "light"
     },
     "output_type": "display_data"
    }
   ],
   "source": [
    "co_matrix = data[['R&D Spend', 'Administration', 'Marketing Spend', 'Profit']].corr()\n",
    "sb.heatmap(co_matrix, annot = True, cmap = 'coolwarm')\n",
    "pt.title('Correlation Matrix')\n",
    "pt.show()"
   ]
  },
  {
   "cell_type": "markdown",
   "id": "c4b0639a",
   "metadata": {},
   "source": [
    "## Scatter plots"
   ]
  },
  {
   "cell_type": "code",
   "execution_count": 50,
   "id": "328c1249",
   "metadata": {},
   "outputs": [
    {
     "data": {
      "image/png": "[encoded data removed]",
      "text/plain": [
       "<Figure size 540x180 with 3 Axes>"
      ]
     },
     "metadata": {
      "needs_background": "light"
     },
     "output_type": "display_data"
    }
   ],
   "source": [
    "sb.pairplot(data, x_vars = ['R&D Spend', 'Administration', 'Marketing Spend'], y_vars = 'Profit', kind = 'scatter')\n",
    "pt.show()"
   ]
  },
  {
   "cell_type": "markdown",
   "id": "7682216c",
   "metadata": {},
   "source": [
    "## Regression plots"
   ]
  },
  {
   "cell_type": "code",
   "execution_count": 51,
   "id": "3303556e",
   "metadata": {},
   "outputs": [
    {
     "data": {
      "image/png": "[encoded data removed]",
      "text/plain": [
       "<Figure size 360x360 with 1 Axes>"
      ]
     },
     "metadata": {
      "needs_background": "light"
     },
     "output_type": "display_data"
    },
    {
     "data": {
      "image/png": "[encoded data removed]",
      "text/plain": [
       "<Figure size 360x360 with 1 Axes>"
      ]
     },
     "metadata": {
      "needs_background": "light"
     },
     "output_type": "display_data"
    },
    {
     "data": {
      "image/png": "[encoded data removed]",
      "text/plain": [
       "<Figure size 360x360 with 1 Axes>"
      ]
     },
     "metadata": {
      "needs_background": "light"
     },
     "output_type": "display_data"
    }
   ],
   "source": [
    "sb.lmplot(x = 'R&D Spend', y = 'Profit', data = data)\n",
    "sb.lmplot(x = 'Administration', y = 'Profit', data = data)\n",
    "sb.lmplot(x = 'Marketing Spend', y = 'Profit', data = data)\n",
    "pt.show()"
   ]
  },
  {
   "cell_type": "markdown",
   "id": "09ca9ce0",
   "metadata": {},
   "source": [
    "## Distribution Plot"
   ]
  },
  {
   "cell_type": "code",
   "execution_count": 52,
   "id": "6fb64d30",
   "metadata": {},
   "outputs": [
    {
     "name": "stderr",
     "output_type": "stream",
     "text": [
      "C:\\Users\\rsrsp\\anaconda3\\lib\\site-packages\\seaborn\\distributions.py:2619: FutureWarning: `distplot` is a deprecated function and will be removed in a future version. Please adapt your code to use either `displot` (a figure-level function with similar flexibility) or `histplot` (an axes-level function for histograms).\n",
      "  warnings.warn(msg, FutureWarning)\n"
     ]
    },
    {
     "data": {
      "image/png": "[encoded data removed]",
      "text/plain": [
       "<Figure size 432x288 with 1 Axes>"
      ]
     },
     "metadata": {
      "needs_background": "light"
     },
     "output_type": "display_data"
    }
   ],
   "source": [
    "sb.distplot(data['Profit'], color = 'maroon')\n",
    "pt.show()"
   ]
  },
  {
   "cell_type": "markdown",
   "id": "e54ca810",
   "metadata": {},
   "source": [
    "## Histogram Plot"
   ]
  },
  {
   "cell_type": "code",
   "execution_count": 53,
   "id": "61b4b0ef",
   "metadata": {},
   "outputs": [
    {
     "data": {
      "image/png": "[encoded data removed]",
      "text/plain": [
       "<Figure size 432x288 with 1 Axes>"
      ]
     },
     "metadata": {
      "needs_background": "light"
     },
     "output_type": "display_data"
    }
   ],
   "source": [
    "sb.histplot(data['Profit'], color = 'seagreen')\n",
    "pt.show()"
   ]
  },
  {
   "cell_type": "markdown",
   "id": "11af087f",
   "metadata": {},
   "source": [
    "# Models Training, Testing and Evaluation"
   ]
  },
  {
   "cell_type": "code",
   "execution_count": 54,
   "id": "ddeba37d",
   "metadata": {},
   "outputs": [],
   "source": [
    "y = data['Profit']\n",
    "X = data[['R&D Spend', 'Administration', 'Marketing Spend']]"
   ]
  },
  {
   "cell_type": "code",
   "execution_count": 55,
   "id": "6ac2ed57",
   "metadata": {},
   "outputs": [],
   "source": [
    "X_train, X_test, y_train, y_test = train_test_split(X, y, test_size = 0.2, random_state = 42)"
   ]
  },
  {
   "cell_type": "markdown",
   "id": "f3eb3df2",
   "metadata": {},
   "source": [
    "## Linear Regression"
   ]
  },
  {
   "cell_type": "code",
   "execution_count": 56,
   "id": "3fde8570",
   "metadata": {},
   "outputs": [],
   "source": [
    "linear_reg = LinearRegression()"
   ]
  },
  {
   "cell_type": "code",
   "execution_count": 57,
   "id": "d44f80e3",
   "metadata": {},
   "outputs": [
    {
     "data": {
      "text/plain": [
       "LinearRegression()"
      ]
     },
     "execution_count": 57,
     "metadata": {},
     "output_type": "execute_result"
    }
   ],
   "source": [
    "linear_reg.fit(X_train, y_train)"
   ]
  },
  {
   "cell_type": "code",
   "execution_count": 58,
   "id": "3701c592",
   "metadata": {},
   "outputs": [],
   "source": [
    "linear_reg_pred = linear_reg.predict(X_test)"
   ]
  },
  {
   "cell_type": "code",
   "execution_count": 59,
   "id": "fd8244d1",
   "metadata": {},
   "outputs": [],
   "source": [
    "linear_reg_r2 = r2_score(y_test, linear_reg_pred)"
   ]
  },
  {
   "cell_type": "code",
   "execution_count": 60,
   "id": "2a5b9215",
   "metadata": {},
   "outputs": [
    {
     "data": {
      "text/plain": [
       "0.9000653083037321"
      ]
     },
     "execution_count": 60,
     "metadata": {},
     "output_type": "execute_result"
    }
   ],
   "source": [
    "linear_reg_r2"
   ]
  },
  {
   "cell_type": "code",
   "execution_count": 61,
   "id": "68219740",
   "metadata": {},
   "outputs": [],
   "source": [
    "linear_reg_mse = mean_squared_error(y_test, linear_reg_pred)"
   ]
  },
  {
   "cell_type": "code",
   "execution_count": 62,
   "id": "c2273bad",
   "metadata": {},
   "outputs": [
    {
     "data": {
      "text/plain": [
       "80926321.22295155"
      ]
     },
     "execution_count": 62,
     "metadata": {},
     "output_type": "execute_result"
    }
   ],
   "source": [
    "linear_reg_mse"
   ]
  },
  {
   "cell_type": "code",
   "execution_count": 63,
   "id": "85f55786",
   "metadata": {},
   "outputs": [],
   "source": [
    "linear_reg_mae = mean_absolute_error(y_test, linear_reg_pred)"
   ]
  },
  {
   "cell_type": "code",
   "execution_count": 64,
   "id": "5a91a7f2",
   "metadata": {},
   "outputs": [
    {
     "data": {
      "text/plain": [
       "6979.1522523704"
      ]
     },
     "execution_count": 64,
     "metadata": {},
     "output_type": "execute_result"
    }
   ],
   "source": [
    "linear_reg_mae"
   ]
  },
  {
   "cell_type": "markdown",
   "id": "ab26fe8d",
   "metadata": {},
   "source": [
    "## Random Forest Regressor"
   ]
  },
  {
   "cell_type": "code",
   "execution_count": 65,
   "id": "9214f796",
   "metadata": {},
   "outputs": [],
   "source": [
    "randfor_reg = RandomForestRegressor()"
   ]
  },
  {
   "cell_type": "code",
   "execution_count": 87,
   "id": "46529f5a",
   "metadata": {},
   "outputs": [
    {
     "data": {
      "text/plain": [
       "RandomForestRegressor()"
      ]
     },
     "execution_count": 87,
     "metadata": {},
     "output_type": "execute_result"
    }
   ],
   "source": [
    "randfor_reg.fit(X_train, y_train)"
   ]
  },
  {
   "cell_type": "code",
   "execution_count": 88,
   "id": "7304163e",
   "metadata": {},
   "outputs": [],
   "source": [
    "randfor_reg_pred = randfor_reg.predict(X_test)"
   ]
  },
  {
   "cell_type": "code",
   "execution_count": 89,
   "id": "e192950e",
   "metadata": {},
   "outputs": [],
   "source": [
    "randfor_reg_r2 = r2_score(y_test, randfor_reg_pred)"
   ]
  },
  {
   "cell_type": "code",
   "execution_count": 90,
   "id": "955e1c57",
   "metadata": {},
   "outputs": [
    {
     "data": {
      "text/plain": [
       "0.907739488115063"
      ]
     },
     "execution_count": 90,
     "metadata": {},
     "output_type": "execute_result"
    }
   ],
   "source": [
    "randfor_reg_r2"
   ]
  },
  {
   "cell_type": "code",
   "execution_count": 91,
   "id": "b8d90d03",
   "metadata": {},
   "outputs": [],
   "source": [
    "randfor_reg_mse = mean_squared_error(y_test, randfor_reg_pred)"
   ]
  },
  {
   "cell_type": "code",
   "execution_count": 92,
   "id": "c991f6c2",
   "metadata": {},
   "outputs": [
    {
     "data": {
      "text/plain": [
       "74711831.23961332"
      ]
     },
     "execution_count": 92,
     "metadata": {},
     "output_type": "execute_result"
    }
   ],
   "source": [
    "randfor_reg_mse"
   ]
  },
  {
   "cell_type": "code",
   "execution_count": 93,
   "id": "9763bfe1",
   "metadata": {},
   "outputs": [],
   "source": [
    "randfor_reg_mae = mean_absolute_error(y_test, randfor_reg_pred)"
   ]
  },
  {
   "cell_type": "code",
   "execution_count": 94,
   "id": "17e07c25",
   "metadata": {},
   "outputs": [
    {
     "data": {
      "text/plain": [
       "6348.794889999988"
      ]
     },
     "execution_count": 94,
     "metadata": {},
     "output_type": "execute_result"
    }
   ],
   "source": [
    "randfor_reg_mae"
   ]
  },
  {
   "cell_type": "markdown",
   "id": "1fdff314",
   "metadata": {},
   "source": [
    "## Decision Tree"
   ]
  },
  {
   "cell_type": "code",
   "execution_count": 174,
   "id": "1ea05c98",
   "metadata": {},
   "outputs": [],
   "source": [
    "dectree_reg = DecisionTreeRegressor()"
   ]
  },
  {
   "cell_type": "code",
   "execution_count": 175,
   "id": "aa12b43b",
   "metadata": {},
   "outputs": [
    {
     "data": {
      "text/plain": [
       "DecisionTreeRegressor()"
      ]
     },
     "execution_count": 175,
     "metadata": {},
     "output_type": "execute_result"
    }
   ],
   "source": [
    "dectree_reg.fit(X_train, y_train)"
   ]
  },
  {
   "cell_type": "code",
   "execution_count": 176,
   "id": "7a11f8ae",
   "metadata": {},
   "outputs": [],
   "source": [
    "dectree_reg_pred = dectree_reg.predict(X_test)"
   ]
  },
  {
   "cell_type": "code",
   "execution_count": 177,
   "id": "054030cd",
   "metadata": {},
   "outputs": [],
   "source": [
    "dectree_reg_r2 = r2_score(y_test, dectree_reg_pred)"
   ]
  },
  {
   "cell_type": "code",
   "execution_count": 178,
   "id": "1b81e7f2",
   "metadata": {},
   "outputs": [
    {
     "data": {
      "text/plain": [
       "0.8265928991371172"
      ]
     },
     "execution_count": 178,
     "metadata": {},
     "output_type": "execute_result"
    }
   ],
   "source": [
    "dectree_reg_r2"
   ]
  },
  {
   "cell_type": "code",
   "execution_count": 179,
   "id": "4718e61c",
   "metadata": {},
   "outputs": [],
   "source": [
    "dectree_reg_mse = mean_squared_error(y_test, dectree_reg_pred)"
   ]
  },
  {
   "cell_type": "code",
   "execution_count": 180,
   "id": "dcd601c2",
   "metadata": {},
   "outputs": [
    {
     "data": {
      "text/plain": [
       "140423695.80147"
      ]
     },
     "execution_count": 180,
     "metadata": {},
     "output_type": "execute_result"
    }
   ],
   "source": [
    "dectree_reg_mse"
   ]
  },
  {
   "cell_type": "code",
   "execution_count": 181,
   "id": "3df35235",
   "metadata": {},
   "outputs": [],
   "source": [
    "dectree_reg_mae = mean_absolute_error(y_test, dectree_reg_pred)"
   ]
  },
  {
   "cell_type": "code",
   "execution_count": 182,
   "id": "f44dad5e",
   "metadata": {},
   "outputs": [
    {
     "data": {
      "text/plain": [
       "9050.414999999997"
      ]
     },
     "execution_count": 182,
     "metadata": {},
     "output_type": "execute_result"
    }
   ],
   "source": [
    "dectree_reg_mae"
   ]
  },
  {
   "cell_type": "markdown",
   "id": "0afdc9b3",
   "metadata": {},
   "source": [
    "## Lasso Regression"
   ]
  },
  {
   "cell_type": "code",
   "execution_count": 183,
   "id": "e857e95e",
   "metadata": {},
   "outputs": [],
   "source": [
    "lasso_reg = Lasso(alpha = 0.1)"
   ]
  },
  {
   "cell_type": "code",
   "execution_count": 184,
   "id": "2cd5202f",
   "metadata": {},
   "outputs": [
    {
     "data": {
      "text/plain": [
       "Lasso(alpha=0.1)"
      ]
     },
     "execution_count": 184,
     "metadata": {},
     "output_type": "execute_result"
    }
   ],
   "source": [
    "lasso_reg.fit(X_train, y_train)"
   ]
  },
  {
   "cell_type": "code",
   "execution_count": 185,
   "id": "b5de595b",
   "metadata": {},
   "outputs": [],
   "source": [
    "lasso_reg_pred = lasso_reg.predict(X_test)"
   ]
  },
  {
   "cell_type": "code",
   "execution_count": 186,
   "id": "510950a0",
   "metadata": {},
   "outputs": [],
   "source": [
    "lasso_reg_r2 = r2_score(y_test, lasso_reg_pred)"
   ]
  },
  {
   "cell_type": "code",
   "execution_count": 187,
   "id": "a5dd4d09",
   "metadata": {},
   "outputs": [
    {
     "data": {
      "text/plain": [
       "0.9000653083601801"
      ]
     },
     "execution_count": 187,
     "metadata": {},
     "output_type": "execute_result"
    }
   ],
   "source": [
    "lasso_reg_r2"
   ]
  },
  {
   "cell_type": "code",
   "execution_count": 188,
   "id": "9bda31aa",
   "metadata": {},
   "outputs": [],
   "source": [
    "lasso_reg_mse = mean_squared_error(y_test, lasso_reg_pred)"
   ]
  },
  {
   "cell_type": "code",
   "execution_count": 189,
   "id": "5f12df28",
   "metadata": {},
   "outputs": [
    {
     "data": {
      "text/plain": [
       "80926321.17724043"
      ]
     },
     "execution_count": 189,
     "metadata": {},
     "output_type": "execute_result"
    }
   ],
   "source": [
    "lasso_reg_mse"
   ]
  },
  {
   "cell_type": "code",
   "execution_count": 190,
   "id": "f2591f81",
   "metadata": {},
   "outputs": [],
   "source": [
    "lasso_reg_mae = mean_absolute_error(y_test, lasso_reg_pred)"
   ]
  },
  {
   "cell_type": "code",
   "execution_count": 191,
   "id": "796bf02e",
   "metadata": {},
   "outputs": [
    {
     "data": {
      "text/plain": [
       "6979.152250714324"
      ]
     },
     "execution_count": 191,
     "metadata": {},
     "output_type": "execute_result"
    }
   ],
   "source": [
    "lasso_reg_mae"
   ]
  },
  {
   "cell_type": "markdown",
   "id": "f7a618ff",
   "metadata": {},
   "source": [
    "## Ridge Regression"
   ]
  },
  {
   "cell_type": "code",
   "execution_count": 192,
   "id": "82f8b12f",
   "metadata": {},
   "outputs": [],
   "source": [
    "ridge_reg = Ridge(alpha = 0.1)"
   ]
  },
  {
   "cell_type": "code",
   "execution_count": 193,
   "id": "1d32e5b7",
   "metadata": {},
   "outputs": [
    {
     "data": {
      "text/plain": [
       "Ridge(alpha=0.1)"
      ]
     },
     "execution_count": 193,
     "metadata": {},
     "output_type": "execute_result"
    }
   ],
   "source": [
    "ridge_reg.fit(X_train, y_train)"
   ]
  },
  {
   "cell_type": "code",
   "execution_count": 194,
   "id": "d854ebd4",
   "metadata": {},
   "outputs": [],
   "source": [
    "ridge_reg_pred = ridge_reg.predict(X_test)"
   ]
  },
  {
   "cell_type": "code",
   "execution_count": 195,
   "id": "efe66d6e",
   "metadata": {},
   "outputs": [],
   "source": [
    "ridge_reg_r2 = r2_score(y_test, ridge_reg_pred)"
   ]
  },
  {
   "cell_type": "code",
   "execution_count": 196,
   "id": "164309b4",
   "metadata": {},
   "outputs": [
    {
     "data": {
      "text/plain": [
       "0.9000653083036411"
      ]
     },
     "execution_count": 196,
     "metadata": {},
     "output_type": "execute_result"
    }
   ],
   "source": [
    "ridge_reg_r2"
   ]
  },
  {
   "cell_type": "code",
   "execution_count": 197,
   "id": "c17dbb55",
   "metadata": {},
   "outputs": [],
   "source": [
    "ridge_reg_mse = mean_squared_error(y_test, ridge_reg_pred)"
   ]
  },
  {
   "cell_type": "code",
   "execution_count": 198,
   "id": "2f98aa2e",
   "metadata": {},
   "outputs": [
    {
     "data": {
      "text/plain": [
       "80926321.22302528"
      ]
     },
     "execution_count": 198,
     "metadata": {},
     "output_type": "execute_result"
    }
   ],
   "source": [
    "ridge_reg_mse"
   ]
  },
  {
   "cell_type": "code",
   "execution_count": 199,
   "id": "01e5a4f9",
   "metadata": {},
   "outputs": [],
   "source": [
    "ridge_reg_mae = mean_absolute_error(y_test, ridge_reg_pred)"
   ]
  },
  {
   "cell_type": "code",
   "execution_count": 200,
   "id": "005630d9",
   "metadata": {},
   "outputs": [
    {
     "data": {
      "text/plain": [
       "6979.152252376222"
      ]
     },
     "execution_count": 200,
     "metadata": {},
     "output_type": "execute_result"
    }
   ],
   "source": [
    "ridge_reg_mae"
   ]
  },
  {
   "cell_type": "markdown",
   "id": "146cf0a9",
   "metadata": {},
   "source": [
    "## ElasticNet Regression"
   ]
  },
  {
   "cell_type": "code",
   "execution_count": 201,
   "id": "c51804e1",
   "metadata": {},
   "outputs": [],
   "source": [
    "elasticnet_reg = ElasticNet(alpha = 0.1, l1_ratio = 0.5)"
   ]
  },
  {
   "cell_type": "code",
   "execution_count": 202,
   "id": "ba412363",
   "metadata": {},
   "outputs": [
    {
     "data": {
      "text/plain": [
       "ElasticNet(alpha=0.1)"
      ]
     },
     "execution_count": 202,
     "metadata": {},
     "output_type": "execute_result"
    }
   ],
   "source": [
    "elasticnet_reg.fit(X_train, y_train)"
   ]
  },
  {
   "cell_type": "code",
   "execution_count": 203,
   "id": "4bcfd6f5",
   "metadata": {},
   "outputs": [],
   "source": [
    "elasticnet_reg_pred = elasticnet_reg.predict(X_test)"
   ]
  },
  {
   "cell_type": "code",
   "execution_count": 204,
   "id": "2350b729",
   "metadata": {},
   "outputs": [],
   "source": [
    "elasticnet_reg_r2 = r2_score(y_test, elasticnet_reg_pred)"
   ]
  },
  {
   "cell_type": "code",
   "execution_count": 205,
   "id": "55a56f9b",
   "metadata": {},
   "outputs": [
    {
     "data": {
      "text/plain": [
       "0.9000653083311747"
      ]
     },
     "execution_count": 205,
     "metadata": {},
     "output_type": "execute_result"
    }
   ],
   "source": [
    "elasticnet_reg_r2"
   ]
  },
  {
   "cell_type": "code",
   "execution_count": 206,
   "id": "be275474",
   "metadata": {},
   "outputs": [],
   "source": [
    "elasticnet_reg_mse = mean_squared_error(y_test, elasticnet_reg_pred)"
   ]
  },
  {
   "cell_type": "code",
   "execution_count": 207,
   "id": "c0b32aa0",
   "metadata": {},
   "outputs": [
    {
     "data": {
      "text/plain": [
       "80926321.20072877"
      ]
     },
     "execution_count": 207,
     "metadata": {},
     "output_type": "execute_result"
    }
   ],
   "source": [
    "elasticnet_reg_mse"
   ]
  },
  {
   "cell_type": "code",
   "execution_count": 208,
   "id": "6632bda0",
   "metadata": {},
   "outputs": [],
   "source": [
    "elasticnet_reg_mae = mean_absolute_error(y_test, elasticnet_reg_pred)"
   ]
  },
  {
   "cell_type": "code",
   "execution_count": 209,
   "id": "88b9d001",
   "metadata": {},
   "outputs": [
    {
     "data": {
      "text/plain": [
       "6979.152251598576"
      ]
     },
     "execution_count": 209,
     "metadata": {},
     "output_type": "execute_result"
    }
   ],
   "source": [
    "elasticnet_reg_mae"
   ]
  },
  {
   "cell_type": "markdown",
   "id": "446293be",
   "metadata": {},
   "source": [
    "## Support Vector Regression (SVR)"
   ]
  },
  {
   "cell_type": "code",
   "execution_count": 210,
   "id": "84ce90dc",
   "metadata": {},
   "outputs": [],
   "source": [
    "svr = SVR(kernel = 'linear')"
   ]
  },
  {
   "cell_type": "code",
   "execution_count": 211,
   "id": "dbebf264",
   "metadata": {},
   "outputs": [
    {
     "data": {
      "text/plain": [
       "SVR(kernel='linear')"
      ]
     },
     "execution_count": 211,
     "metadata": {},
     "output_type": "execute_result"
    }
   ],
   "source": [
    "svr.fit(X_train, y_train)"
   ]
  },
  {
   "cell_type": "code",
   "execution_count": 212,
   "id": "23a78641",
   "metadata": {},
   "outputs": [],
   "source": [
    "svr_pred = svr.predict(X_test)"
   ]
  },
  {
   "cell_type": "code",
   "execution_count": 213,
   "id": "4e7651b1",
   "metadata": {},
   "outputs": [],
   "source": [
    "svr_r2 = r2_score(y_test, svr_pred)"
   ]
  },
  {
   "cell_type": "code",
   "execution_count": 214,
   "id": "37fdf55e",
   "metadata": {},
   "outputs": [
    {
     "data": {
      "text/plain": [
       "0.8717792695119354"
      ]
     },
     "execution_count": 214,
     "metadata": {},
     "output_type": "execute_result"
    }
   ],
   "source": [
    "svr_r2"
   ]
  },
  {
   "cell_type": "code",
   "execution_count": 215,
   "id": "6035a58e",
   "metadata": {},
   "outputs": [],
   "source": [
    "svr_mse = mean_squared_error(y_test, svr_pred)"
   ]
  },
  {
   "cell_type": "code",
   "execution_count": 216,
   "id": "95f982ba",
   "metadata": {},
   "outputs": [
    {
     "data": {
      "text/plain": [
       "103832131.23282321"
      ]
     },
     "execution_count": 216,
     "metadata": {},
     "output_type": "execute_result"
    }
   ],
   "source": [
    "svr_mse"
   ]
  },
  {
   "cell_type": "code",
   "execution_count": 217,
   "id": "78ab24de",
   "metadata": {},
   "outputs": [],
   "source": [
    "svr_mae = mean_absolute_error(y_test, svr_pred)"
   ]
  },
  {
   "cell_type": "code",
   "execution_count": 218,
   "id": "f4f55e5e",
   "metadata": {},
   "outputs": [
    {
     "data": {
      "text/plain": [
       "7702.62323434256"
      ]
     },
     "execution_count": 218,
     "metadata": {},
     "output_type": "execute_result"
    }
   ],
   "source": [
    "svr_mae"
   ]
  },
  {
   "cell_type": "markdown",
   "id": "453d9f4d",
   "metadata": {},
   "source": [
    "## XGBoost"
   ]
  },
  {
   "cell_type": "code",
   "execution_count": 219,
   "id": "be5cc85e",
   "metadata": {},
   "outputs": [],
   "source": [
    "xgb_reg = xgb.XGBRegressor()"
   ]
  },
  {
   "cell_type": "code",
   "execution_count": 220,
   "id": "70794e87",
   "metadata": {},
   "outputs": [
    {
     "data": {
      "text/plain": [
       "XGBRegressor(base_score=None, booster=None, callbacks=None,\n",
       "             colsample_bylevel=None, colsample_bynode=None,\n",
       "             colsample_bytree=None, early_stopping_rounds=None,\n",
       "             enable_categorical=False, eval_metric=None, feature_types=None,\n",
       "             gamma=None, gpu_id=None, grow_policy=None, importance_type=None,\n",
       "             interaction_constraints=None, learning_rate=None, max_bin=None,\n",
       "             max_cat_threshold=None, max_cat_to_onehot=None,\n",
       "             max_delta_step=None, max_depth=None, max_leaves=None,\n",
       "             min_child_weight=None, missing=nan, monotone_constraints=None,\n",
       "             n_estimators=100, n_jobs=None, num_parallel_tree=None,\n",
       "             predictor=None, random_state=None, ...)"
      ]
     },
     "execution_count": 220,
     "metadata": {},
     "output_type": "execute_result"
    }
   ],
   "source": [
    "xgb_reg.fit(X_train, y_train)"
   ]
  },
  {
   "cell_type": "code",
   "execution_count": 221,
   "id": "b4946db3",
   "metadata": {},
   "outputs": [],
   "source": [
    "xgb_reg_pred = xgb_reg.predict(X_test)"
   ]
  },
  {
   "cell_type": "code",
   "execution_count": 222,
   "id": "e089daf9",
   "metadata": {},
   "outputs": [],
   "source": [
    "xgb_reg_r2 = r2_score(y_test, xgb_reg_pred)"
   ]
  },
  {
   "cell_type": "code",
   "execution_count": 223,
   "id": "a2804db6",
   "metadata": {},
   "outputs": [
    {
     "data": {
      "text/plain": [
       "0.904580278463066"
      ]
     },
     "execution_count": 223,
     "metadata": {},
     "output_type": "execute_result"
    }
   ],
   "source": [
    "xgb_reg_r2"
   ]
  },
  {
   "cell_type": "code",
   "execution_count": 224,
   "id": "10bc5364",
   "metadata": {},
   "outputs": [],
   "source": [
    "xgb_reg_mse = mean_squared_error(y_true = y_test, y_pred = xgb_reg_pred)"
   ]
  },
  {
   "cell_type": "code",
   "execution_count": 225,
   "id": "133965d3",
   "metadata": {},
   "outputs": [
    {
     "data": {
      "text/plain": [
       "77270134.17494626"
      ]
     },
     "execution_count": 225,
     "metadata": {},
     "output_type": "execute_result"
    }
   ],
   "source": [
    "xgb_reg_mse"
   ]
  },
  {
   "cell_type": "code",
   "execution_count": 226,
   "id": "73374edd",
   "metadata": {},
   "outputs": [],
   "source": [
    "xgb_reg_mae = mean_absolute_error(y_true = y_test, y_pred = xgb_reg_pred)"
   ]
  },
  {
   "cell_type": "code",
   "execution_count": 227,
   "id": "1f048919",
   "metadata": {},
   "outputs": [
    {
     "data": {
      "text/plain": [
       "7779.489250000001"
      ]
     },
     "execution_count": 227,
     "metadata": {},
     "output_type": "execute_result"
    }
   ],
   "source": [
    "xgb_reg_mae"
   ]
  },
  {
   "cell_type": "markdown",
   "id": "f3f0a699",
   "metadata": {},
   "source": [
    "## Feedforward Neural Networks (FNN)"
   ]
  },
  {
   "cell_type": "code",
   "execution_count": 228,
   "id": "9b1e3172",
   "metadata": {},
   "outputs": [],
   "source": [
    "scaler = MinMaxScaler()\n",
    "X_train_scaled = scaler.fit_transform(X_train)\n",
    "X_test_scaled = scaler.transform(X_test)"
   ]
  },
  {
   "cell_type": "code",
   "execution_count": 229,
   "id": "a68617de",
   "metadata": {},
   "outputs": [],
   "source": [
    "fnn_model = tf.keras.models.Sequential([\n",
    "    tf.keras.layers.Dense(32, activation='relu', input_shape=(X_train_scaled.shape[1],)),\n",
    "    tf.keras.layers.Dense(32, activation='relu'),\n",
    "    tf.keras.layers.Dense(1)\n",
    "])"
   ]
  },
  {
   "cell_type": "code",
   "execution_count": 230,
   "id": "3aa4a388",
   "metadata": {},
   "outputs": [],
   "source": [
    "fnn_model.compile(optimizer = 'adam', loss = 'mean_squared_error')"
   ]
  },
  {
   "cell_type": "code",
   "execution_count": 231,
   "id": "daecd81b",
   "metadata": {},
   "outputs": [
    {
     "name": "stdout",
     "output_type": "stream",
     "text": [
      "Epoch 1/10\n",
      "2/2 [==============================] - 2s 20ms/step - loss: 15096804352.0000\n",
      "Epoch 2/10\n",
      "2/2 [==============================] - 0s 12ms/step - loss: 15096791040.0000\n",
      "Epoch 3/10\n",
      "2/2 [==============================] - 0s 8ms/step - loss: 15096780800.0000\n",
      "Epoch 4/10\n",
      "2/2 [==============================] - 0s 12ms/step - loss: 15096768512.0000\n",
      "Epoch 5/10\n",
      "2/2 [==============================] - 0s 12ms/step - loss: 15096758272.0000\n",
      "Epoch 6/10\n",
      "2/2 [==============================] - 0s 12ms/step - loss: 15096748032.0000\n",
      "Epoch 7/10\n",
      "2/2 [==============================] - 0s 14ms/step - loss: 15096738816.0000\n",
      "Epoch 8/10\n",
      "2/2 [==============================] - 0s 8ms/step - loss: 15096728576.0000\n",
      "Epoch 9/10\n",
      "2/2 [==============================] - 0s 9ms/step - loss: 15096719360.0000\n",
      "Epoch 10/10\n",
      "2/2 [==============================] - 0s 10ms/step - loss: 15096709120.0000\n"
     ]
    },
    {
     "data": {
      "text/plain": [
       "<keras.callbacks.History at 0x26b8c025070>"
      ]
     },
     "execution_count": 231,
     "metadata": {},
     "output_type": "execute_result"
    }
   ],
   "source": [
    "fnn_model.fit(X_train_scaled, y_train, epochs = 10, batch_size = 32)"
   ]
  },
  {
   "cell_type": "code",
   "execution_count": 232,
   "id": "5aad73b9",
   "metadata": {},
   "outputs": [
    {
     "name": "stdout",
     "output_type": "stream",
     "text": [
      "1/1 [==============================] - 0s 279ms/step\n"
     ]
    }
   ],
   "source": [
    "fnn_predict = fnn_model.predict(X_test_scaled)"
   ]
  },
  {
   "cell_type": "code",
   "execution_count": 233,
   "id": "5b00f629",
   "metadata": {},
   "outputs": [],
   "source": [
    "fnn_r2 = r2_score(y_test, fnn_predict)"
   ]
  },
  {
   "cell_type": "code",
   "execution_count": 234,
   "id": "8b385ec6",
   "metadata": {},
   "outputs": [
    {
     "data": {
      "text/plain": [
       "-11.72853816358919"
      ]
     },
     "execution_count": 234,
     "metadata": {},
     "output_type": "execute_result"
    }
   ],
   "source": [
    "fnn_r2"
   ]
  },
  {
   "cell_type": "code",
   "execution_count": 235,
   "id": "effe5d3d",
   "metadata": {},
   "outputs": [],
   "source": [
    "fnn_mse = mean_squared_error(y_test, fnn_predict)"
   ]
  },
  {
   "cell_type": "code",
   "execution_count": 236,
   "id": "ba565566",
   "metadata": {},
   "outputs": [
    {
     "data": {
      "text/plain": [
       "10307469314.619251"
      ]
     },
     "execution_count": 236,
     "metadata": {},
     "output_type": "execute_result"
    }
   ],
   "source": [
    "fnn_mse"
   ]
  },
  {
   "cell_type": "code",
   "execution_count": 237,
   "id": "907b9dd9",
   "metadata": {},
   "outputs": [],
   "source": [
    "fnn_mae = mean_absolute_error(y_test, fnn_predict)"
   ]
  },
  {
   "cell_type": "code",
   "execution_count": 238,
   "id": "2e578581",
   "metadata": {},
   "outputs": [
    {
     "data": {
      "text/plain": [
       "97456.04920916699"
      ]
     },
     "execution_count": 238,
     "metadata": {},
     "output_type": "execute_result"
    }
   ],
   "source": [
    "fnn_mae"
   ]
  },
  {
   "cell_type": "markdown",
   "id": "4234a37f",
   "metadata": {},
   "source": [
    "# Best Model and Prediction"
   ]
  },
  {
   "cell_type": "code",
   "execution_count": 242,
   "id": "197bca40",
   "metadata": {},
   "outputs": [],
   "source": [
    "results = pd.DataFrame({\n",
    "    'Model': ['Linear', 'Lasso', 'Ridge', 'ElasticNet', 'Random Forest', 'Decision Tree', 'SVR', 'XGBoost', 'FNN'],\n",
    "    'R2 Score': [linear_reg_r2, lasso_reg_r2, ridge_reg_r2, elasticnet_reg_r2, randfor_reg_r2, dectree_reg_r2, \n",
    "                 svr_r2, xgb_reg_r2, fnn_r2],\n",
    "    'MAE': [linear_reg_mae, lasso_reg_mae, ridge_reg_mae, elasticnet_reg_mae, randfor_reg_mae, dectree_reg_mae, \n",
    "            svr_mae, xgb_reg_mae, fnn_mae],\n",
    "    'MSE': [linear_reg_mse, lasso_reg_mse, ridge_reg_mse, elasticnet_reg_mse, randfor_reg_mse, dectree_reg_mse, \n",
    "            svr_mse, xgb_reg_mse, fnn_mse]\n",
    "})"
   ]
  },
  {
   "cell_type": "code",
   "execution_count": 243,
   "id": "07647cb1",
   "metadata": {},
   "outputs": [
    {
     "data": {
      "text/html": [
       "<div>\n",
       "<style scoped>\n",
       "    .dataframe tbody tr th:only-of-type {\n",
       "        vertical-align: middle;\n",
       "    }\n",
       "\n",
       "    .dataframe tbody tr th {\n",
       "        vertical-align: top;\n",
       "    }\n",
       "\n",
       "    .dataframe thead th {\n",
       "        text-align: right;\n",
       "    }\n",
       "</style>\n",
       "<table border=\"1\" class=\"dataframe\">\n",
       "  <thead>\n",
       "    <tr style=\"text-align: right;\">\n",
       "      <th></th>\n",
       "      <th>Model</th>\n",
       "      <th>R2 Score</th>\n",
       "      <th>MAE</th>\n",
       "      <th>MSE</th>\n",
       "    </tr>\n",
       "  </thead>\n",
       "  <tbody>\n",
       "    <tr>\n",
       "      <th>0</th>\n",
       "      <td>Linear</td>\n",
       "      <td>0.900065</td>\n",
       "      <td>6979.152252</td>\n",
       "      <td>8.092632e+07</td>\n",
       "    </tr>\n",
       "    <tr>\n",
       "      <th>1</th>\n",
       "      <td>Lasso</td>\n",
       "      <td>0.900065</td>\n",
       "      <td>6979.152251</td>\n",
       "      <td>8.092632e+07</td>\n",
       "    </tr>\n",
       "    <tr>\n",
       "      <th>2</th>\n",
       "      <td>Ridge</td>\n",
       "      <td>0.900065</td>\n",
       "      <td>6979.152252</td>\n",
       "      <td>8.092632e+07</td>\n",
       "    </tr>\n",
       "    <tr>\n",
       "      <th>3</th>\n",
       "      <td>ElasticNet</td>\n",
       "      <td>0.900065</td>\n",
       "      <td>6979.152252</td>\n",
       "      <td>8.092632e+07</td>\n",
       "    </tr>\n",
       "    <tr>\n",
       "      <th>4</th>\n",
       "      <td>Random Forest</td>\n",
       "      <td>0.907739</td>\n",
       "      <td>6348.794890</td>\n",
       "      <td>7.471183e+07</td>\n",
       "    </tr>\n",
       "    <tr>\n",
       "      <th>5</th>\n",
       "      <td>Decision Tree</td>\n",
       "      <td>0.826593</td>\n",
       "      <td>9050.415000</td>\n",
       "      <td>1.404237e+08</td>\n",
       "    </tr>\n",
       "    <tr>\n",
       "      <th>6</th>\n",
       "      <td>SVR</td>\n",
       "      <td>0.871779</td>\n",
       "      <td>7702.623234</td>\n",
       "      <td>1.038321e+08</td>\n",
       "    </tr>\n",
       "    <tr>\n",
       "      <th>7</th>\n",
       "      <td>XGBoost</td>\n",
       "      <td>0.904580</td>\n",
       "      <td>7779.489250</td>\n",
       "      <td>7.727013e+07</td>\n",
       "    </tr>\n",
       "    <tr>\n",
       "      <th>8</th>\n",
       "      <td>FNN</td>\n",
       "      <td>-11.728538</td>\n",
       "      <td>97456.049209</td>\n",
       "      <td>1.030747e+10</td>\n",
       "    </tr>\n",
       "  </tbody>\n",
       "</table>\n",
       "</div>"
      ],
      "text/plain": [
       "           Model   R2 Score           MAE           MSE\n",
       "0         Linear   0.900065   6979.152252  8.092632e+07\n",
       "1          Lasso   0.900065   6979.152251  8.092632e+07\n",
       "2          Ridge   0.900065   6979.152252  8.092632e+07\n",
       "3     ElasticNet   0.900065   6979.152252  8.092632e+07\n",
       "4  Random Forest   0.907739   6348.794890  7.471183e+07\n",
       "5  Decision Tree   0.826593   9050.415000  1.404237e+08\n",
       "6            SVR   0.871779   7702.623234  1.038321e+08\n",
       "7        XGBoost   0.904580   7779.489250  7.727013e+07\n",
       "8            FNN -11.728538  97456.049209  1.030747e+10"
      ]
     },
     "execution_count": 243,
     "metadata": {},
     "output_type": "execute_result"
    }
   ],
   "source": [
    "results"
   ]
  },
  {
   "cell_type": "code",
   "execution_count": 244,
   "id": "c52e5e2a",
   "metadata": {},
   "outputs": [
    {
     "name": "stdout",
     "output_type": "stream",
     "text": [
      "Best model based on Total Rank: Random Forest\n"
     ]
    }
   ],
   "source": [
    "results['MSE Rank'] = results['MSE'].rank(ascending=True, method='min')\n",
    "results['MAE Rank'] = results['MAE'].rank(ascending=True, method='min')\n",
    "results['R2 Rank'] = results['R2 Score'].rank(ascending=False, method='min')\n",
    "\n",
    "results['Total Rank'] = results['MSE Rank'] + results['MAE Rank'] + results['R2 Rank']\n",
    "\n",
    "results_sorted_by_rank = results.sort_values('Total Rank')\n",
    "\n",
    "best_model_rank = results_sorted_by_rank.iloc[0]['Model']\n",
    "\n",
    "print(\"Best model based on Total Rank:\", best_model_rank)"
   ]
  },
  {
   "cell_type": "code",
   "execution_count": 245,
   "id": "30f07547",
   "metadata": {},
   "outputs": [
    {
     "name": "stdout",
     "output_type": "stream",
     "text": [
      "Enter R & D Spend : 100000\n",
      "Enter Administration Cost : 150000\n",
      "Enter Marketing Spend : 300000\n",
      "The predicted profit of the Startup is :  136112.7186999999\n"
     ]
    },
    {
     "name": "stderr",
     "output_type": "stream",
     "text": [
      "C:\\Users\\rsrsp\\anaconda3\\lib\\site-packages\\sklearn\\base.py:450: UserWarning: X does not have valid feature names, but RandomForestRegressor was fitted with feature names\n",
      "  warnings.warn(\n"
     ]
    }
   ],
   "source": [
    "rd_spend = float(input(\"Enter R & D Spend : \"))\n",
    "admin = float(input(\"Enter Administration Cost : \"))\n",
    "market = float(input(\"Enter Marketing Spend : \"))\n",
    "print(\"The predicted profit of the Startup is : \", float(randfor_reg.predict([[rd_spend, admin, market]])))"
   ]
  },
  {
   "cell_type": "code",
   "execution_count": null,
   "id": "fcae77e2",
   "metadata": {},
   "outputs": [],
   "source": []
  }
 ],
 "metadata": {
  "kernelspec": {
   "display_name": "Python 3",
   "language": "python",
   "name": "python3"
  },
  "language_info": {
   "codemirror_mode": {
    "name": "ipython",
    "version": 3
   },
   "file_extension": ".py",
   "mimetype": "text/x-python",
   "name": "python",
   "nbconvert_exporter": "python",
   "pygments_lexer": "ipython3",
   "version": "3.12.3"
  }
 },
 "nbformat": 4,
 "nbformat_minor": 5
}
